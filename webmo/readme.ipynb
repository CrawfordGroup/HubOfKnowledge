{
 "cells": [
  {
   "cell_type": "markdown",
   "metadata": {},
   "source": [
    "### The instructor will get you a roster \n",
    "  - It will more than 90% of the time be in excel format.\n",
    "  - If it is just a list of pid@vt.edu then you are in luck that is really all you need\n",
    "  - if its an excel file delete all the columns except where the PID/Email is and make that the rightmost col\n",
    "  - The first cell should be a title either \"Email\" or \"PID\" depending on which it is\n",
    "  - Export the file as `csv` "
   ]
  },
  {
   "cell_type": "markdown",
   "metadata": {},
   "source": [
    "#### We can use this function to parse that data\n",
    "  - if you have a good enough grasp on python you can modify/edit to fit your needs"
   ]
  },
  {
   "cell_type": "code",
   "execution_count": 1,
   "metadata": {
    "collapsed": true
   },
   "outputs": [],
   "source": [
    "def make_webmo_list(group_name, csv_file_path):\n",
    "    \"\"\"\n",
    "    create a .webmo file with the information needed to \"import\" a class\n",
    "    \n",
    "    group_name: the name of the group for that class usually CHEM####-{f/s}YEAR\n",
    "    \n",
    "    **Note** the group must be created in the group manager util before importing the file.\n",
    "    It also must have the same name as the group_name argument or the file won't work. \n",
    "    \n",
    "    It is very picky with these imports!!\n",
    "    \"\"\"\n",
    "    output_lines = []\n",
    "    output_lines.append(\",\".join(['username','password','group']))\n",
    "    csv_fh = open(csv_file_path, 'r')\n",
    "    csv_data = csv_fh.readlines()\n",
    "    csv_fh.close()\n",
    "    mode = csv_data[0].strip()\n",
    "    if(mode == \"Email\"):\n",
    "        for line in csv_data[1:]:\n",
    "            pid = line.strip().split(\"@\")[0]\n",
    "            output_lines.append(\",\".join([pid,pid,group_name]))\n",
    "    if (mode == \"PID\"):\n",
    "        for line in csv_data[1:]:\n",
    "            pid = line.strip()\n",
    "            output_lines.append(\",\".join([pid,pid,group_name]))\n",
    "    with open(\"{}.webmo\".format(group_name),'w') as webmoF:\n",
    "        webmoF.write(\"\\n\".join(output_lines))"
   ]
  },
  {
   "cell_type": "code",
   "execution_count": 28,
   "metadata": {
    "collapsed": false
   },
   "outputs": [],
   "source": [
    "make_webmo_list(\"test_group\",\"sample_junk.csv\")"
   ]
  },
  {
   "cell_type": "markdown",
   "metadata": {},
   "source": [
    "#### Last step check the output file!\n",
    "\n",
    " *the funky looking print is because the print function will throw extra \"\\n\"'s onto the output*\n",
    " \n",
    " *this output should appear with no spaces in between if it did, GREAT SUCCESS!*"
   ]
  },
  {
   "cell_type": "code",
   "execution_count": 32,
   "metadata": {
    "collapsed": false
   },
   "outputs": [
    {
     "name": "stdout",
     "output_type": "stream",
     "text": [
      "username,password,group\n",
      "9oma6la,9oma6la,test_group\n",
      "1a2bkmy,1a2bkmy,test_group\n",
      "syh8r,syh8r,test_group\n",
      "bilhspa,bilhspa,test_group\n",
      "souabrot,souabrot,test_group\n",
      "hibczvxu,hibczvxu,test_group\n",
      "12ihckik,12ihckik,test_group\n",
      "4esbs1a,4esbs1a,test_group\n",
      "2pn1daes,2pn1daes,test_group\n",
      "c3d3kau,c3d3kau,test_group\n",
      "doran1re,doran1re,test_group\n",
      "riait,riait,test_group\n",
      "5ur9ma,5ur9ma,test_group\n",
      "ttsoc45,ttsoc45,test_group\n",
      "nae49z,nae49z,test_group\n",
      "icheta3,icheta3,test_group\n",
      "o4sjenn,o4sjenn,test_group\n",
      "kjdeanay,kjdeanay,test_group\n",
      "knuarv,knuarv,test_group\n",
      "gasyoanh,gasyoanh,test_group\n",
      "hmaerinx,hmaerinx,test_group\n",
      "jsamr,jsamr,test_group\n",
      "eifm4omr,eifm4omr,test_group\n",
      "hamelcra,hamelcra,test_group\n",
      "rrebloe,rrebloe,test_group\n",
      "po8ha,po8ha,test_group\n",
      "cp9k6in,cp9k6in,test_group\n",
      "ltptraa,ltptraa,test_group\n",
      "s5sdaayn,s5sdaayn,test_group\n",
      "0il12al1,0il12al1,test_group\n",
      "1iasinql,1iasinql,test_group\n",
      "dad88dyt,dad88dyt,test_group\n",
      "lsx2aae,lsx2aae,test_group\n",
      "h6mcs9i,h6mcs9i,test_group\n",
      "aln520a,aln520a,test_group\n",
      "gtma5wat,gtma5wat,test_group\n",
      "beyaall,beyaall,test_group\n"
     ]
    }
   ],
   "source": [
    "with open(\"test_group.webmo\") as testF:\n",
    "    for line in testF:\n",
    "        print(line.strip(),)"
   ]
  },
  {
   "cell_type": "code",
   "execution_count": 19,
   "metadata": {
    "collapsed": true
   },
   "outputs": [],
   "source": [
    "# for the curious this is how I scrabled up a real roster to make junk data!\n",
    "import random\n",
    "def scrable_csv(csv_file):\n",
    "    new_lines = []\n",
    "    with open(csv_file) as inpF:\n",
    "        for line in inpF:\n",
    "            email_split = line.strip().split(\"@\")\n",
    "            if (len(email_split) > 1):\n",
    "                pid = list(email_split[0])\n",
    "                random.shuffle(pid)\n",
    "                email_split[0] = \"\".join(pid)\n",
    "                new_lines.append(\"@\".join(email_split))\n",
    "            else:\n",
    "                new_lines.append(\"\".join(email_split))\n",
    "    with open(\"sample_junk.csv\",'w') as outF:\n",
    "        outF.write(\"\\n\".join(new_lines))\n",
    "            \n",
    "            "
   ]
  },
  {
   "cell_type": "code",
   "execution_count": 2,
   "metadata": {
    "collapsed": true
   },
   "outputs": [],
   "source": [
    "make_webmo_list(\"rgspring2017\",\"newgroup.csv\")"
   ]
  }
 ],
 "metadata": {
  "anaconda-cloud": {},
  "kernelspec": {
   "display_name": "Python [conda root]",
   "language": "python",
   "name": "conda-root-py"
  },
  "language_info": {
   "codemirror_mode": {
    "name": "ipython",
    "version": 3
   },
   "file_extension": ".py",
   "mimetype": "text/x-python",
   "name": "python",
   "nbconvert_exporter": "python",
   "pygments_lexer": "ipython3",
   "version": "3.5.2"
  }
 },
 "nbformat": 4,
 "nbformat_minor": 1
}
